{
  "cells": [
    {
      "cell_type": "markdown",
      "metadata": {
        "id": "CdIKAGtC_7kM"
      },
      "source": [
        "# Numpy Assignment Questions"
      ]
    },
    {
      "cell_type": "markdown",
      "metadata": {
        "id": "JYJDxJVmAC9m"
      },
      "source": [
        "*Q1*. **What is a Python library? Why do we use Python libraries?**"
      ]
    },
    {
      "cell_type": "markdown",
      "metadata": {
        "id": "y57BB3tuAWob"
      },
      "source": [
        "**Answer**\n",
        "\n",
        "A Python library is a collection of pre-written code and functionalities that can be reused by developers to perform common tasks. These libraries provide a set of modules, functions, and classes that can be imported into a Python script or program, saving developers time and effort by allowing them to leverage existing code rather than writing everything from scratch.\n",
        "\n",
        "**Python libraries serve several purposes, including:**\n",
        "\n",
        "Code Reusability: Libraries encapsulate code that performs specific functions or tasks. By using libraries, developers can avoid reinventing the wheel and leverage well-tested, optimized, and proven solutions.\n",
        "\n",
        "Productivity: Libraries provide a way to quickly implement complex features without having to understand all the underlying details. This can significantly speed up the development process and reduce the amount of code a developer needs to write.\n",
        "\n",
        "Community Contributions: The Python community actively develops and maintains a vast ecosystem of libraries. These libraries cover a wide range of domains, including web development, data science, machine learning, networking, and more. Developers can benefit from the collective knowledge and expertise of the community.\n",
        "\n",
        "Standardization: Python libraries often follow standard conventions and best practices, promoting consistency and making it easier for developers to understand and work with code written by others"
      ]
    },
    {
      "cell_type": "code",
      "execution_count": null,
      "metadata": {
        "id": "PKsetJ0G_p6O"
      },
      "outputs": [],
      "source": []
    },
    {
      "cell_type": "markdown",
      "metadata": {
        "id": "2j5xKrysBR8V"
      },
      "source": [
        "*Q2.* **What is the difference between Numpy array and List?**"
      ]
    },
    {
      "cell_type": "markdown",
      "metadata": {
        "id": "s8V814INAwro"
      },
      "source": [
        "**Answer**\n",
        "\n",
        "NumPy arrays and Python lists are both used to store collections of data, but there are several key differences between them. Here are some of the main distinctions:\n",
        "\n",
        "**1. Type of Elements:**\n",
        "In a NumPy array, all elements must be of the same data type. This uniformity allows for more efficient storage and manipulation of data.\n",
        "Python lists can contain elements of different data types in the same list.\n",
        "\n",
        "**2. Memory Efficiency:**\n",
        "NumPy arrays are more memory-efficient compared to Python lists. NumPy uses a contiguous block of memory to store data, while lists use pointers to objects in different locations.\n",
        "NumPy arrays are more compact and allow for faster access to elements due to their fixed data type.\n",
        "\n",
        "**3. Performance:** NumPy operations are implemented in C and are more efficient for numerical operations than the built-in Python list operations.\n",
        "NumPy provides vectorized operations, which means that operations are performed on entire arrays, making them faster than equivalent operations on lists.\n",
        "\n",
        "**4. Functionality:** NumPy arrays come with a variety of built-in functions and methods optimized for numerical operations, making it suitable for scientific computing and data manipulation.\n",
        "Lists are more general-purpose and offer a wider range of functionalities but may not be as efficient for numerical computations.\n",
        "\n",
        "**5. Syntax:** NumPy arrays provide a more concise and convenient syntax for mathematical and array operations.\n",
        "Lists have a more flexible syntax but may require more explicit iterations for certain operations."
      ]
    },
    {
      "cell_type": "code",
      "execution_count": null,
      "metadata": {
        "id": "f0c7nMTVCGd2"
      },
      "outputs": [],
      "source": []
    },
    {
      "cell_type": "markdown",
      "metadata": {
        "id": "roUNGb_oCPBM"
      },
      "source": [
        " *Q3.* **Find the shape, size and dimension of the following array?**\n",
        "\n",
        "[[1, 2, 3, 4]\n",
        "\n",
        "[5, 6, 7, 8],\n",
        "\n",
        "[9, 10, 11, 12]]"
      ]
    },
    {
      "cell_type": "code",
      "execution_count": null,
      "metadata": {
        "colab": {
          "base_uri": "https://localhost:8080/"
        },
        "id": "6oso7JQECX74",
        "outputId": "4d0592e3-8728-44ac-dc4a-c8ee73e38087"
      },
      "outputs": [
        {
          "name": "stdout",
          "output_type": "stream",
          "text": [
            "Shape of the array: (3, 4)\n",
            "Size of the array: 12\n",
            "Dimension of the array: 2\n"
          ]
        }
      ],
      "source": [
        "import numpy as np  #This line imports the \"NumPy\" library and assigns it the alias \"np\" for convenience\n",
        "\n",
        "# Given array\n",
        "myArray = np.array([[1, 2, 3, 4],\n",
        "                     [5, 6, 7, 8],\n",
        "                     [9, 10, 11, 12]])\n",
        "\n",
        "# Shape of the array (number of rows and columns)\n",
        "shape = myArray.shape\n",
        "\n",
        "# Size of the array (total number of elements)\n",
        "size = myArray.size\n",
        "\n",
        "# Dimension of the array\n",
        "dimension = myArray.ndim\n",
        "\n",
        "# Print the results\n",
        "print(\"Shape of the array:\", shape)\n",
        "print(\"Size of the array:\", size)\n",
        "print(\"Dimension of the array:\", dimension)\n"
      ]
    },
    {
      "cell_type": "markdown",
      "metadata": {
        "id": "Ck8TeAbSDmLF"
      },
      "source": [
        "**Explaination:**\n",
        "\n",
        "1. Import NumPy: first we import the NumPy library and assigns it the alias np.. NumPy is a powerful library for numerical computing in Python.\n",
        "\n",
        "2. Define the Array: Here, we create a NumPy array using the np.array() function. The provided argument is a nested list representing a 2-dimensional array with 3 rows and 4 columns.\n",
        "\n",
        "3. Retrieve Shape, Size, and Dimension:\n",
        "                  shape = my_array.shape\n",
        "                  size = my_array.size\n",
        "                  dimension = my_array.ndim\n",
        "\n",
        "shape: Returns a tuple representing the dimensions of the array. In this case, it's (3, 4), indicating 3 rows and 4 columns.\n",
        "size: Returns the total number of elements in the array. For this array, it's 12.\n",
        "dimension: Returns the number of dimensions of the array. This array is 2-dimensional.\n",
        "\n",
        "4. Print the Results:  Finally, these print statements output the results to the console.\n"
      ]
    },
    {
      "cell_type": "code",
      "execution_count": null,
      "metadata": {
        "id": "oGu2E1W1EWO7"
      },
      "outputs": [],
      "source": []
    },
    {
      "cell_type": "markdown",
      "metadata": {
        "id": "g-XEBWqCEqbA"
      },
      "source": [
        "*Q4.* **Write python code to access the first row of the following array?**\n",
        "\n",
        "[[1, 2, 3, 4]\n",
        "\n",
        "[5, 6, 7, 8],\n",
        "\n",
        "[9, 10, 11, 12]]"
      ]
    },
    {
      "cell_type": "code",
      "execution_count": null,
      "metadata": {
        "colab": {
          "base_uri": "https://localhost:8080/"
        },
        "id": "bfDHXK0UEyvB",
        "outputId": "933a23f6-7da7-4361-8b8b-fec15383a1c3"
      },
      "outputs": [
        {
          "name": "stdout",
          "output_type": "stream",
          "text": [
            "First row of the array: [1 2 3 4]\n"
          ]
        }
      ],
      "source": [
        "import numpy as np  #This line imports the \"NumPy library\" and assigns it the alias \"np\" for convenience\n",
        "\n",
        "# Given array\n",
        "my_array = np.array([[1, 2, 3, 4],\n",
        "                     [5, 6, 7, 8],\n",
        "                     [9, 10, 11, 12]])\n",
        "\n",
        "# Access the first row\n",
        "first_row = my_array[0, :]\n",
        "\n",
        "# Print the result\n",
        "print(\"First row of the array:\", first_row)\n"
      ]
    },
    {
      "cell_type": "markdown",
      "metadata": {
        "id": "iemtVK04FYxK"
      },
      "source": [
        "**Explaination:**\n",
        "\n",
        "1. Import NumPy: first we import the NumPy library and assigns it the alias np. NumPy is a powerful library for numerical computing in Python.\n",
        "\n",
        "2. Define the Array: Here, we create a NumPy array using the np.array() function. The provided argument is a nested list representing a 2-dimensional array with 3 rows and 4 columns.\n",
        "\n",
        "3. Access the First Row:\n",
        "               first_row = my_array[0, :]\n",
        "\n",
        "This line extracts the first row of the array using indexing. In NumPy, the syntax my_array[0, :] means to select all columns (:) in the first row (0).\n",
        "\n",
        "\n",
        "4. Print the Result: This line prints the result to the console."
      ]
    },
    {
      "cell_type": "code",
      "execution_count": null,
      "metadata": {
        "id": "eB6vZICZGSOS"
      },
      "outputs": [],
      "source": []
    },
    {
      "cell_type": "markdown",
      "metadata": {
        "id": "tRVCPtueGSiW"
      },
      "source": [
        "*Q5.* **How do you access the element at the third row and fourth column from the given numpy array?**\n",
        "\n",
        "        [[1, 2, 3, 4]\n",
        "\n",
        "        [5, 6, 7, 8],\n",
        "\n",
        "        [9, 10, 11, 12]]"
      ]
    },
    {
      "cell_type": "code",
      "execution_count": null,
      "metadata": {
        "colab": {
          "base_uri": "https://localhost:8080/"
        },
        "id": "XwpoWPSuG3Os",
        "outputId": "76bf5b2f-9a8e-49ee-98f4-b61e56f8522b"
      },
      "outputs": [
        {
          "name": "stdout",
          "output_type": "stream",
          "text": [
            "Element at the third row and fourth column: 12\n"
          ]
        }
      ],
      "source": [
        "import numpy as np  #This line imports the 'NumPy' library and assigns it the alias 'np'.\n",
        "\n",
        "# Given array\n",
        "my_array = np.array([[1, 2, 3, 4],\n",
        "                     [5, 6, 7, 8],\n",
        "                     [9, 10, 11, 12]])\n",
        "\n",
        "# Access the element at the third row and fourth column\n",
        "element = my_array[2, 3]\n",
        "\n",
        "# Print the result\n",
        "print(\"Element at the third row and fourth column:\", element)\n"
      ]
    },
    {
      "cell_type": "markdown",
      "metadata": {
        "id": "_VX2nPhYHTHm"
      },
      "source": [
        "**Explaination:**\n",
        "\n",
        "1. Import NumPy: first we import the NumPy library and assigns it the alias np. NumPy is a powerful library for numerical computing in Python.\n",
        "\n",
        "2. Define the Array: Here, we create a NumPy array using the np.array() function. The provided argument is a nested list representing a 2-dimensional array with 3 rows and 4 columns.\n",
        "\n",
        "3.Access the Element at the Third Row and Fourth Column: This line extracts the element at the third row (index 2) and fourth column (index 3) of the array.\n",
        "\n",
        "4. Finally, these print statements output the results."
      ]
    },
    {
      "cell_type": "code",
      "execution_count": null,
      "metadata": {
        "id": "K9D0clPfImVR"
      },
      "outputs": [],
      "source": []
    },
    {
      "cell_type": "markdown",
      "metadata": {
        "id": "rxdhc3KTInFH"
      },
      "source": [
        "*Q6.* **Write code to extract all odd-indexed elements from the given numpy array?**\n",
        "\n",
        "                    [[1, 2, 3, 4]\n",
        "                    [5, 6, 7, 8],\n",
        "                    [9, 10, 11, 12]]"
      ]
    },
    {
      "cell_type": "code",
      "execution_count": null,
      "metadata": {
        "colab": {
          "base_uri": "https://localhost:8080/"
        },
        "id": "8MaoXTRQI0js",
        "outputId": "7318a13b-d3c7-4641-aeb4-47fcd7e290e9"
      },
      "outputs": [
        {
          "name": "stdout",
          "output_type": "stream",
          "text": [
            "All odd and non-even elements: [ 1  3  5  7  9 11]\n"
          ]
        }
      ],
      "source": [
        "import numpy as np\n",
        "\n",
        "# Given array\n",
        "my_array = np.array([[1, 2, 3, 4],\n",
        "                     [5, 6, 7, 8],\n",
        "                     [9, 10, 11, 12]])\n",
        "\n",
        "# Initialize an empty list to store the results\n",
        "result = []\n",
        "\n",
        "# Iterate over rows and columns using nested loops\n",
        "for row in my_array:\n",
        "    for element in row:\n",
        "        if element % 2 != 0 or element % 2 == 1:\n",
        "            result.append(element)\n",
        "\n",
        "# Convert the result to a NumPy array\n",
        "result_array = np.array(result)\n",
        "\n",
        "# Print the result\n",
        "print(\"All odd and non-even elements:\", result_array)\n"
      ]
    },
    {
      "cell_type": "markdown",
      "metadata": {
        "id": "vqRchOHoJnDi"
      },
      "source": [
        "**Explaination:**\n",
        "\n",
        "1. Import NumPy: first we import the NumPy library and assigns it the alias np. NumPy is a powerful library for numerical computing in Python.\n",
        "\n",
        "2. Define the Array: Here, we create a NumPy array using the np.array() function. The provided argument is a nested list representing a 2-dimensional array with 3 rows and 4 columns.\n",
        "\n",
        "3. Initialize an Empty List to Store Results:\n",
        "       result = []\n",
        "\n",
        "4. Iterate Over Rows and Columns using Nested Loops:\n",
        "          for i in range(my_array.shape[0]):\n",
        "             for j in range(my_array.shape[1]):\n",
        "                element = my_array[i, j]\n",
        "  Two nested loops are used to iterate over each element in the 2D array. The indices i and j represent the row and column indices, respectively.\n",
        "\n",
        "5. Check if Element is Odd or Non-Even:\n",
        "       if element % 2 != 0 or element % 2 == 1:\n",
        "          result.append(element)\n",
        "\n",
        "After the loops, the result list is converted to a NumPy array using np.array().\n",
        "\n",
        "6. Finally, the result is printed."
      ]
    },
    {
      "cell_type": "code",
      "execution_count": null,
      "metadata": {
        "id": "iEkk50wyK35n"
      },
      "outputs": [],
      "source": []
    },
    {
      "cell_type": "markdown",
      "metadata": {
        "id": "i1NMOXtzLS8J"
      },
      "source": [
        "*Q7.*  **How can you generate a ran^om 3x3 matrix with values between 0 and  1?**"
      ]
    },
    {
      "cell_type": "code",
      "execution_count": null,
      "metadata": {
        "colab": {
          "base_uri": "https://localhost:8080/"
        },
        "id": "Bam_7bCeLTi4",
        "outputId": "2d61eeab-0707-4b54-8c24-dd339a5b9da2"
      },
      "outputs": [
        {
          "name": "stdout",
          "output_type": "stream",
          "text": [
            "[[0.76861278 0.78749727 0.77936734]\n",
            " [0.09015361 0.1544491  0.09792083]\n",
            " [0.59270651 0.80537295 0.44068275]]\n"
          ]
        }
      ],
      "source": [
        "import numpy as np\n",
        "\n",
        "# Create a 3x3 matrix with random values between 0 and 1\n",
        "random_matrix = np.random.rand(3, 3)\n",
        "\n",
        "# Print the matrix\n",
        "print(random_matrix)"
      ]
    },
    {
      "cell_type": "markdown",
      "metadata": {
        "id": "1FmvdgTbL69Q"
      },
      "source": [
        "**Explaination**\n",
        "\n",
        "1. Import NumPy: first we import the NumPy library and assigns it the alias np. NumPy is a powerful library for numerical computing in Python.\n",
        "\n",
        "2. Generate a Random 3x3 Matrix: The np.random.rand(3, 3) function generates a 3x3 matrix with random values from a uniform distribution between 0 (inclusive) and 1 (exclusive). Each element in the matrix is independently and uniformly sampled.\n",
        "\n",
        "3. finally printing the result"
      ]
    },
    {
      "cell_type": "code",
      "execution_count": null,
      "metadata": {
        "id": "1y9VDoo0MfHR"
      },
      "outputs": [],
      "source": []
    },
    {
      "cell_type": "markdown",
      "metadata": {
        "id": "j19E6H5EOvc0"
      },
      "source": [
        "*Q8.* **Describe the difference between np.random.rand and np.random.randn?**"
      ]
    },
    {
      "cell_type": "markdown",
      "metadata": {
        "id": "KvtfXaZsPYRI"
      },
      "source": [
        "The *np.random.rand* and *np.random.randn* functions in NumPy are both used for generating random numbers, but they differ in how they generate those numbers:\n",
        "\n",
        "**np.random.rand:**\n",
        "\n",
        "Generates random numbers from a uniform distribution over the half-open interval [0.0, 1.0).\n",
        "Returns random samples that are uniformly distributed between 0 (inclusive) and 1 (exclusive).\n",
        "All generated values have an equal probability of occurring.\n",
        "Takes the shape of the output as separate argument (not as a tuple).\n",
        "\n",
        "         np.random.rand(3, 4)  \n",
        "         # Generates a 3x4 matrix of values between 0 and 1\n",
        "\n",
        "      \n",
        "**np.random.randn:**\n",
        "\n",
        "Generates random numbers from a standard normal distribution (mean=0, standard deviation=1).\n",
        "Returns random samples that follow a normal distribution with mean 0 and standard deviation 1.\n",
        "Values are more likely to be close to 0 and decrease in probability as they move away from 0.\n",
        "Takes the shape of the output as separate arguments (not as a tuple).\n",
        "\n",
        "      np.random.randn(3, 4)\n",
        "       # Generates a 3x4 matrix of values from a standard normal distribution\n",
        "\n"
      ]
    },
    {
      "cell_type": "code",
      "execution_count": null,
      "metadata": {
        "id": "gJKIsixBQRKR"
      },
      "outputs": [],
      "source": []
    },
    {
      "cell_type": "markdown",
      "metadata": {
        "id": "So7W_TdNQSD1"
      },
      "source": [
        "*Q9* **Write code to increase the dimension of the following array?**\n",
        "\n",
        "              [[1, 2, 3, 4]\n",
        "              [5, 6, 7, 8],\n",
        "              [9, 10, 11, 12]]\n"
      ]
    },
    {
      "cell_type": "code",
      "execution_count": null,
      "metadata": {
        "colab": {
          "base_uri": "https://localhost:8080/"
        },
        "id": "6FXwYPioQn2Z",
        "outputId": "9a386731-92d3-469f-fab5-27ab94276a8e"
      },
      "outputs": [
        {
          "name": "stdout",
          "output_type": "stream",
          "text": [
            "Original 2D array:\n",
            "[[ 1  2  3  4]\n",
            " [ 5  6  7  8]\n",
            " [ 9 10 11 12]]\n",
            "\n",
            "Increased dimension array:\n",
            "[[[ 1]\n",
            "  [ 2]\n",
            "  [ 3]\n",
            "  [ 4]]\n",
            "\n",
            " [[ 5]\n",
            "  [ 6]\n",
            "  [ 7]\n",
            "  [ 8]]\n",
            "\n",
            " [[ 9]\n",
            "  [10]\n",
            "  [11]\n",
            "  [12]]]\n"
          ]
        }
      ],
      "source": [
        "import numpy as np\n",
        "\n",
        "# Given 2D array\n",
        "original_array = np.array([[1, 2, 3, 4],\n",
        "                           [5, 6, 7, 8],\n",
        "                           [9, 10, 11, 12]])\n",
        "\n",
        "# Increase the dimension by adding a new axis\n",
        "new_array = original_array[:, :, np.newaxis]\n",
        "\n",
        "# Print the results\n",
        "print(\"Original 2D array:\")\n",
        "print(original_array)\n",
        "print(\"\\nIncreased dimension array:\")\n",
        "print(new_array)\n"
      ]
    },
    {
      "cell_type": "markdown",
      "metadata": {
        "id": "3dY0V-IzQ5DC"
      },
      "source": [
        "**Explaination:**\n",
        "\n",
        "1. Import NumPy: first we import the NumPy library and assigns it the alias np. NumPy is a powerful library for numerical computing in Python.\n",
        "\n",
        "2. Define the Array: Here, we create a NumPy array using the np.array() function. The provided argument is a nested list representing a 2-dimensional array with 3 rows and 4 columns.\n",
        "\n",
        "3. Creating new dimension: The np.newaxis is used to increase the dimension of the original_array by adding a new axis. In this case, [:, :, np.newaxis] adds a new axis along the third dimension (axis 2)\n",
        "\n",
        "4. and finally printing the result."
      ]
    },
    {
      "cell_type": "code",
      "execution_count": null,
      "metadata": {
        "id": "8L28owuLRobZ"
      },
      "outputs": [],
      "source": []
    },
    {
      "cell_type": "markdown",
      "metadata": {
        "id": "MQKtCj-ERo9X"
      },
      "source": [
        "*Q10* **How to transpose the following array in NumPy?**\n",
        "\n",
        "[[1, 2, 3, 4]\n",
        "\n",
        "[5, 6, 7, 8],\n",
        "\n",
        "[9, 10, 11, 12]]"
      ]
    },
    {
      "cell_type": "code",
      "execution_count": null,
      "metadata": {
        "colab": {
          "base_uri": "https://localhost:8080/"
        },
        "id": "XYClKPuiRyPr",
        "outputId": "996c6698-fda1-4b87-95c3-01a695a2c17c"
      },
      "outputs": [
        {
          "name": "stdout",
          "output_type": "stream",
          "text": [
            "Original array:\n",
            "[[ 1  2  3  4]\n",
            " [ 5  6  7  8]\n",
            " [ 9 10 11 12]]\n",
            "\n",
            "Transposed array (using numpy.transpose):\n",
            "[[ 1  5  9]\n",
            " [ 2  6 10]\n",
            " [ 3  7 11]\n",
            " [ 4  8 12]]\n",
            "\n",
            "Transposed array (using .T attribute):\n",
            "[[ 1  5  9]\n",
            " [ 2  6 10]\n",
            " [ 3  7 11]\n",
            " [ 4  8 12]]\n"
          ]
        }
      ],
      "source": [
        "import numpy as np\n",
        "\n",
        "# Given array\n",
        "original_array = np.array([[1, 2, 3, 4],\n",
        "                           [5, 6, 7, 8],\n",
        "                           [9, 10, 11, 12]])\n",
        "\n",
        "# Transpose using numpy.transpose\n",
        "transposed_array1 = np.transpose(original_array)\n",
        "\n",
        "# Transpose using .T attribute\n",
        "transposed_array2 = original_array.T\n",
        "\n",
        "# Print the results\n",
        "print(\"Original array:\")\n",
        "print(original_array)\n",
        "print(\"\\nTransposed array (using numpy.transpose):\")\n",
        "print(transposed_array1)\n",
        "print(\"\\nTransposed array (using .T attribute):\")\n",
        "print(transposed_array2)\n"
      ]
    },
    {
      "cell_type": "markdown",
      "metadata": {
        "id": "ioFp-29ZQZwX"
      },
      "source": [
        "**Explaination:**\n",
        "\n",
        "1. Import NumPy: first we import the NumPy library and assigns it the alias np. NumPy is a powerful library for numerical computing in Python.\n",
        "\n",
        "2. Define the Array: Here, we create a NumPy array using the np.array() function. The provided argument is a nested list representing a 2-dimensional array with 3 rows and 4 columns.\n",
        "\n",
        "3. Transposed_array1 = np.transpose(original_array) and transposed_array2 = original_array.T : This line uses the numpy.transpose function to transpose the original_array. The numpy.transpose function takes an array as input and returns the transposed array. In this case, it swaps the rows and columns of the original array. The .T attribute is a shorthand for transposing the array.\n",
        "\n",
        "4. The code then prints the original array and the transposed arrays using both methods."
      ]
    },
    {
      "cell_type": "code",
      "execution_count": null,
      "metadata": {
        "id": "rYkS29pVR8pq"
      },
      "outputs": [],
      "source": []
    },
    {
      "cell_type": "markdown",
      "metadata": {
        "id": "haW8rGiYR9bI"
      },
      "source": [
        "*Q11* **Consider the following matrix:**\n",
        "\n",
        "Matrix A2 [[1, 2, 3, 4] [5, 6, 7, 8],[9, 10, 11, 12]]\n",
        "\n",
        "Matrix B2 [[1, 2, 3, 4] [5, 6, 7, 8],[9, 10, 11, 12]]\n",
        "\n",
        "\n",
        "Perform the following operation using Python1\n",
        "  1. Index wise multiplication\n",
        "  2. matrix multiplication\n",
        "  3. Add both the matrix\n",
        "  4. Substract matrix B from A\n",
        "  5. Divide Matrix B by A"
      ]
    },
    {
      "cell_type": "code",
      "execution_count": null,
      "metadata": {
        "colab": {
          "base_uri": "https://localhost:8080/"
        },
        "id": "61NlpMTnSs_4",
        "outputId": "f40f0ad8-aab4-44e1-eee6-63d78ca0c52e"
      },
      "outputs": [
        {
          "name": "stdout",
          "output_type": "stream",
          "text": [
            "Index wise multiplication:\n",
            "[[  1   4   9  16]\n",
            " [ 25  36  49  64]\n",
            " [ 81 100 121 144]]\n",
            "\n",
            "Matrix multiplication:\n",
            "[[ 30  70 110]\n",
            " [ 70 174 278]\n",
            " [110 278 446]]\n",
            "\n",
            "Addition of both matrices:\n",
            "[[ 2  4  6  8]\n",
            " [10 12 14 16]\n",
            " [18 20 22 24]]\n",
            "\n",
            "Subtraction of matrix B from A:\n",
            "[[0 0 0 0]\n",
            " [0 0 0 0]\n",
            " [0 0 0 0]]\n",
            "\n",
            "Division of matrix B by A:\n",
            "[[1. 1. 1. 1.]\n",
            " [1. 1. 1. 1.]\n",
            " [1. 1. 1. 1.]]\n"
          ]
        }
      ],
      "source": [
        "import numpy as np\n",
        "\n",
        "# Given matrices\n",
        "matrix_A = np.array([[1, 2, 3, 4],\n",
        "                     [5, 6, 7, 8],\n",
        "                     [9, 10, 11, 12]])\n",
        "\n",
        "matrix_B = np.array([[1, 2, 3, 4],\n",
        "                     [5, 6, 7, 8],\n",
        "                     [9, 10, 11, 12]])\n",
        "\n",
        "# Index wise multiplication\n",
        "index_wise_multiplication = matrix_A * matrix_B\n",
        "\n",
        "# Matrix multiplication\n",
        "matrix_multiplication = np.dot(matrix_A, matrix_B.T)\n",
        "\n",
        "# Add both matrices\n",
        "addition_result = matrix_A + matrix_B\n",
        "\n",
        "# Subtraction of matrix B from A\n",
        "subtraction_result = matrix_A - matrix_B\n",
        "\n",
        "# Divide matrix B by A\n",
        "division_result = matrix_B / matrix_A\n",
        "\n",
        "# Print the results\n",
        "print(\"Index wise multiplication:\")\n",
        "print(index_wise_multiplication)\n",
        "\n",
        "print(\"\\nMatrix multiplication:\")\n",
        "print(matrix_multiplication)\n",
        "\n",
        "print(\"\\nAddition of both matrices:\")\n",
        "print(addition_result)\n",
        "\n",
        "print(\"\\nSubtraction of matrix B from A:\")\n",
        "print(subtraction_result)\n",
        "\n",
        "print(\"\\nDivision of matrix B by A:\")\n",
        "print(division_result)\n"
      ]
    },
    {
      "cell_type": "code",
      "execution_count": null,
      "metadata": {
        "id": "jVVasC93TCzN"
      },
      "outputs": [],
      "source": []
    },
    {
      "cell_type": "markdown",
      "metadata": {
        "id": "c-rfeE22TQzh"
      },
      "source": [
        "*Q12* **Which function in Numpy can be used to swap the byte order of an array?**"
      ]
    },
    {
      "cell_type": "markdown",
      "metadata": {
        "id": "eBFTyHK0Toqb"
      },
      "source": [
        "**Answer**\n",
        "\n",
        "In NumPy, we can use the np.byteswap function to swap the byte order of an array. This function is particularly useful for dealing with binary data where the endianness (byte order) of the data needs to be adjusted."
      ]
    },
    {
      "cell_type": "code",
      "execution_count": null,
      "metadata": {
        "colab": {
          "base_uri": "https://localhost:8080/"
        },
        "id": "j-e-BROFUCWw",
        "outputId": "c2218295-5a0b-4a2a-a0d3-6b19ae907c49"
      },
      "outputs": [
        {
          "name": "stdout",
          "output_type": "stream",
          "text": [
            "Original array: [1 2 3 4]\n",
            "Swapped byte order array: [16777216 33554432 50331648 67108864]\n"
          ]
        }
      ],
      "source": [
        "# Example\n",
        "import numpy as np\n",
        "\n",
        "# Create a NumPy array with integer values\n",
        "original_array = np.array([1, 2, 3, 4], dtype=np.int32)\n",
        "\n",
        "# Print the results\n",
        "print(\"Original array:\", original_array)\n",
        "print(\"Swapped byte order array:\", original_array.byteswap(True))"
      ]
    },
    {
      "cell_type": "markdown",
      "metadata": {
        "id": "ww_lgTkgVpIF"
      },
      "source": [
        "**Expaination:**\n",
        "\n",
        "Here, the *byteswap* method is applied to the original_array. The True argument indicates that the byte order should be swapped. The byteswap method is used to change the byte order of the elements in the array.\n",
        "\n",
        " the *byteswap* method modifies the array in place and returns a reference to the modified array. If you want to preserve the original array, you might want to create a copy before applying the byteswap operation."
      ]
    },
    {
      "cell_type": "code",
      "execution_count": null,
      "metadata": {
        "id": "bOYRqeyyKqEO"
      },
      "outputs": [],
      "source": []
    },
    {
      "cell_type": "markdown",
      "metadata": {
        "id": "5zZ8W63sKqmz"
      },
      "source": [
        "*Q13*. **What is the significance of the np.linalg.inv function?**"
      ]
    },
    {
      "cell_type": "markdown",
      "metadata": {
        "id": "f8yZ8Rf7KyKY"
      },
      "source": [
        "**Answer**\n",
        "\n",
        "The np.linalg.inv function in NumPy is used to compute the (multiplicative) inverse of a square matrix. In linear algebra, the inverse of a matrix A, denoted as A^(-1), is a matrix such that when it is multiplied by the original matrix A, the result is the identity matrix.\n",
        "\n",
        "Mathematically, if A is a square matrix and A^(-1) is its inverse, then:\n",
        "\n",
        "A⋅A\n",
        "(\n",
        " −1)=A\n",
        "(\n",
        " −1)⋅A=I"
      ]
    },
    {
      "cell_type": "code",
      "execution_count": 1,
      "metadata": {
        "colab": {
          "base_uri": "https://localhost:8080/"
        },
        "id": "zJbw96mvKtZh",
        "outputId": "aef0ba2a-0bf7-44d7-f31e-7f353faccbe3"
      },
      "outputs": [
        {
          "name": "stdout",
          "output_type": "stream",
          "text": [
            "Original Matrix:\n",
            "[[2 1]\n",
            " [7 4]]\n",
            "\n",
            "Inverse Matrix:\n",
            "[[ 4. -1.]\n",
            " [-7.  2.]]\n"
          ]
        }
      ],
      "source": [
        "import numpy as np\n",
        "\n",
        "# Create a square matrix\n",
        "A = np.array([[2, 1],\n",
        "              [7, 4]])\n",
        "\n",
        "# Calculate the inverse\n",
        "A_inv = np.linalg.inv(A)\n",
        "\n",
        "print(\"Original Matrix:\")\n",
        "print(A)\n",
        "\n",
        "print(\"\\nInverse Matrix:\")\n",
        "print(A_inv)\n"
      ]
    },
    {
      "cell_type": "code",
      "execution_count": null,
      "metadata": {
        "id": "gLc19OWsLMdA"
      },
      "outputs": [],
      "source": []
    },
    {
      "cell_type": "markdown",
      "metadata": {
        "id": "rqI-idnXLNH-"
      },
      "source": [
        "*Q14.* **What does the np.reshape function do, and how is it used?**"
      ]
    },
    {
      "cell_type": "markdown",
      "metadata": {
        "id": "C8HlyBhaLdH5"
      },
      "source": [
        "**Answer**\n",
        "\n",
        "The np.reshape function in NumPy is used to change the shape of an array without changing its data. It allows you to rearrange the elements of an array to a new shape, provided that the total number of elements remains the same. Reshaping is a useful operation when you want to change the dimensions of an array,\n",
        "\n",
        "              numpy.reshape(a, newshape, order='C')  #The basic syntax of np.reshape is as follows:\n"
      ]
    },
    {
      "cell_type": "code",
      "execution_count": null,
      "metadata": {
        "id": "TdY4IA05LS0k"
      },
      "outputs": [],
      "source": [
        "import numpy as np\n",
        "\n",
        "# Create a one-dimensional array with 12 elements\n",
        "arr = np.array([1, 2, 3, 4, 5, 6, 7, 8, 9, 10, 11, 12])\n",
        "\n",
        "# Reshape the array to a 3x4 matrix\n",
        "reshaped_arr = np.reshape(arr, (3, 4))\n",
        "\n",
        "print(\"Original Array:\")\n",
        "print(arr)\n",
        "\n",
        "print(\"\\nReshaped Array:\")\n",
        "print(reshaped_arr)\n"
      ]
    },
    {
      "cell_type": "code",
      "execution_count": null,
      "metadata": {
        "id": "6PD192BcL9ES"
      },
      "outputs": [],
      "source": []
    },
    {
      "cell_type": "markdown",
      "metadata": {
        "id": "JlLnM76aL9zQ"
      },
      "source": [
        "*Q15*. What is broadcasting in Numpy?"
      ]
    },
    {
      "cell_type": "markdown",
      "metadata": {
        "id": "9xvwhTijMb55"
      },
      "source": [
        "**Answer**\n",
        "\n",
        "Broadcasting in NumPy is a powerful feature that allows for performing operations on arrays of different shapes and sizes, without explicitly creating copies or reshaping the arrays. This capability enables you to write more concise and readable code when working with arrays.\n",
        "\n",
        "*The broadcasting rule in NumPy follows these steps when performing element-wise operations on arrays with different shapes:*\n",
        " 1. If the arrays have a different number of dimensions, pad the smaller-dimensional array's shape with ones on its left side until both shapes have the same length.\n",
        "\n",
        " 2. Compare the sizes of the corresponding dimensions. Two dimensions are compatible for broadcasting when:\n",
        "      They are equal, or\n",
        "      One of them is 1.\n",
        " 3. If the sizes in a dimension are not compatible and none of them is 1, a ValueError will be raised, indicating that the operation is not possible.\n",
        "\n",
        " 4. After broadcasting, perform the element-wise operation."
      ]
    },
    {
      "cell_type": "code",
      "execution_count": 2,
      "metadata": {
        "colab": {
          "base_uri": "https://localhost:8080/"
        },
        "id": "d8PU9fceNLNZ",
        "outputId": "c5b3d93f-5067-42d3-9e33-a6c29f5489ec"
      },
      "outputs": [
        {
          "name": "stdout",
          "output_type": "stream",
          "text": [
            "[2. 4. 6.]\n"
          ]
        }
      ],
      "source": [
        "# Here is a simple example.\n",
        "\n",
        "import numpy as np\n",
        "\n",
        "# Example 1:\n",
        "a = np.array([1.0, 2.0, 3.0])\n",
        "b = 2.0\n",
        "\n",
        "result = a * b  # Broadcasting happens here\n",
        "\n",
        "print(result)\n",
        "# Output: [2. 4. 6.]\n"
      ]
    }
  ],
  "metadata": {
    "colab": {
      "provenance": []
    },
    "kernelspec": {
      "display_name": "Python 3",
      "name": "python3"
    },
    "language_info": {
      "name": "python"
    }
  },
  "nbformat": 4,
  "nbformat_minor": 0
}
